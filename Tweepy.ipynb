{
 "cells": [
  {
   "cell_type": "code",
   "execution_count": 12,
   "metadata": {
    "collapsed": true
   },
   "outputs": [],
   "source": [
    "import tweepy\n",
    "import json\n",
    "import time\n",
    "import numpy as np\n",
    "from config import (consumer_key, consumer_secret, access_token, access_token_secret)\n",
    "from vaderSentiment.vaderSentiment import SentimentIntensityAnalyzer\n",
    "analyzer = SentimentIntensityAnalyzer()\n",
    "\n",
    "# Setup Tweepy API Authentication\n",
    "auth = tweepy.OAuthHandler(consumer_key, consumer_secret)\n",
    "auth.set_access_token(access_token, access_token_secret)\n",
    "api = tweepy.API(auth, parser=tweepy.parsers.JSONParser())"
   ]
  },
  {
   "cell_type": "code",
   "execution_count": 25,
   "metadata": {
    "collapsed": true
   },
   "outputs": [],
   "source": [
    "#Users \n",
    "target_user = [\"@BBC\", \"@CBS\", \"@CNN\", \"@Fox\", \"@Nytimes\"]\n",
    "\n",
    "#Sentiment lists\n",
    "compound_list = []\n",
    "positive_list = []\n",
    "negative_list = []\n",
    "neutral_list = []"
   ]
  },
  {
   "cell_type": "code",
   "execution_count": 41,
   "metadata": {},
   "outputs": [
    {
     "name": "stdout",
     "output_type": "stream",
     "text": [
      "{'User': '@BBC', 'Compound': 0.15387033333333333, 'Positive': 0.10293833333333333, 'Negative': 0.041893333333333338, 'Neutral': 0.85516833333333353, 'Tweet Count': 600}\n",
      "\n",
      "{'User': '@CBS', 'Compound': 0.3031968333333333, 'Positive': 0.14212666666666668, 'Negative': 0.019448333333333335, 'Neutral': 0.83843000000000001, 'Tweet Count': 600}\n",
      "\n",
      "{'User': '@CNN', 'Compound': -0.092423166666666667, 'Positive': 0.052135000000000001, 'Negative': 0.087458333333333332, 'Neutral': 0.86041500000000004, 'Tweet Count': 600}\n",
      "\n",
      "{'User': '@Fox', 'Compound': 0.17847333333333334, 'Positive': 0.15258833333333333, 'Negative': 0.058363333333333337, 'Neutral': 0.78903666666666672, 'Tweet Count': 600}\n",
      "\n",
      "{'User': '@Nytimes', 'Compound': -0.050865833333333332, 'Positive': 0.071863333333333335, 'Negative': 0.091536666666666655, 'Neutral': 0.83659666666666666, 'Tweet Count': 600}\n",
      "\n"
     ]
    }
   ],
   "source": [
    "\n",
    "# \"Real Person\" Filters\n",
    "min_tweets = 5\n",
    "max_tweets = 10000\n",
    "max_followers = 2500\n",
    "max_following = 2500\n",
    "lang = \"en\"\n",
    "\n",
    "for target in target_user:\n",
    "    oldest_tweet = None\n",
    "    \n",
    "    compound_list = []\n",
    "    positive_list = []\n",
    "    negative_list = []\n",
    "    neutral_list = []\n",
    "    \n",
    "    for x in range(6):\n",
    "        public_tweets = api.user_timeline(target, count = 100, result_type=\"recent\", max_id=oldest_tweet)\n",
    "        \n",
    "        for tweet in public_tweets:\n",
    "           \n",
    "         # Run Vader Analysis on each tweet\n",
    "            results = analyzer.polarity_scores(tweet['text'])\n",
    "            compound = results[\"compound\"]\n",
    "            pos = results[\"pos\"]\n",
    "            neu = results[\"neu\"]\n",
    "            neg = results[\"neg\"]\n",
    "\n",
    "        # Add each value to the appropriate list\n",
    "            compound_list.append(compound)\n",
    "            positive_list.append(pos)\n",
    "            negative_list.append(neg)\n",
    "            neutral_list.append(neu)\n",
    "        \n",
    "        # Set the new oldest_tweet value\n",
    "            oldest_tweet = int(tweet[\"id_str\"]) - 1\n",
    "\n",
    "    # Store the Average Sentiments\n",
    "    sentiment = {\n",
    "        \"User\": target,\n",
    "        \"Compound\": np.mean(compound_list),\n",
    "        \"Positive\": np.mean(positive_list),\n",
    "        \"Negative\": np.mean(negative_list),\n",
    "        \"Neutral\": np.mean(neutral_list),\n",
    "        \"Tweet Count\": len(compound_list)\n",
    "        }\n",
    "\n",
    "    # Print the Sentiments\n",
    "    print(sentiment)\n",
    "    print()\n",
    "        "
   ]
  },
  {
   "cell_type": "code",
   "execution_count": null,
   "metadata": {
    "collapsed": true
   },
   "outputs": [],
   "source": [
    "#print(f\"User: {target_user}\")\n",
    "#print(f\"Compound: {np.mean(compound_list):.3f}\")\n",
    "#print(f\"Positive: {np.mean(positive_list):.3f}\")\n",
    "#print(f\"Neutral: {np.mean(neutral_list):.3f}\")\n",
    "#print(f\"Negative: {np.mean(negative_list):.3f}\")"
   ]
  },
  {
   "cell_type": "code",
   "execution_count": null,
   "metadata": {
    "collapsed": true
   },
   "outputs": [],
   "source": []
  }
 ],
 "metadata": {
  "kernelspec": {
   "display_name": "Python 3",
   "language": "python",
   "name": "python3"
  },
  "language_info": {
   "codemirror_mode": {
    "name": "ipython",
    "version": 3
   },
   "file_extension": ".py",
   "mimetype": "text/x-python",
   "name": "python",
   "nbconvert_exporter": "python",
   "pygments_lexer": "ipython3",
   "version": "3.6.2"
  }
 },
 "nbformat": 4,
 "nbformat_minor": 2
}
